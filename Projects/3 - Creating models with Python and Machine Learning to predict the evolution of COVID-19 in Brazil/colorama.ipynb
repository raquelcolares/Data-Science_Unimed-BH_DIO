{
  "nbformat": 4,
  "nbformat_minor": 0,
  "metadata": {
    "colab": {
      "provenance": [],
      "collapsed_sections": []
    },
    "kernelspec": {
      "name": "python3",
      "display_name": "Python 3"
    },
    "language_info": {
      "name": "python"
    }
  },
  "cells": [
    {
      "cell_type": "markdown",
      "source": [
        "# Colorama - Campanha Mickey e amigos\n"
      ],
      "metadata": {
        "id": "tcP0rMJT3cw9"
      }
    },
    {
      "cell_type": "markdown",
      "source": [
        "O projeto é um estudo de caso da nova campanha de coleção de esmaltes, Mickey e amigos, da empresa Colorama. \n",
        "\n",
        "O objetivo deste case é determinar e analisar os resultados produzidos pelos onze influenciadores contratos pela empresa. \n",
        "\n",
        "A campanha envolveu publicações apenas no Instagram; o escopo da ação foi composto por conteúdos no feed, reels e stories.\n",
        "\n",
        "\n",
        "<img src=\"https://www.coloramaesmaltes.com.br/-/media/Project/Loreal/Brand-Sites/Essie/MASTER/DMI/Banners-Home/2022/Junho/Imagem-Banner-Interna-Disney-e-Amigos-Colorama.jpg\" width=\"500\">"
      ],
      "metadata": {
        "id": "O-I0_KOo4Leh"
      }
    },
    {
      "cell_type": "markdown",
      "source": [
        "## Análise "
      ],
      "metadata": {
        "id": "PN69eAmP4L9J"
      }
    },
    {
      "cell_type": "markdown",
      "source": [
        "Primeiramente será feita a análise dos dados que foram gerados pelos onze influenciadores contratados para fazer a campanha da empresa Colorama. \n",
        "\n",
        "O intuíto dessa análise é gerar um comparativo do desempenho dos influenciadores e assim poder predizer o resultado da campanha.  "
      ],
      "metadata": {
        "id": "DbPFN9xf3cgt"
      }
    },
    {
      "cell_type": "code",
      "execution_count": 1,
      "metadata": {
        "id": "1IOebotOmF4I"
      },
      "outputs": [],
      "source": [
        "# Bibliotecas que serão utilizadas neste trabalho\n",
        "import pandas as pd\n",
        "import numpy as np\n",
        "import matplotlib.pyplot as plt\n",
        "import seaborn as sns"
      ]
    },
    {
      "cell_type": "code",
      "source": [
        "# Importando os dados\n",
        "df = pd.read_excel('/content/BRMedia_Base_Colorama.xlsx')"
      ],
      "metadata": {
        "colab": {
          "base_uri": "https://localhost:8080/"
        },
        "id": "INE__i8ynfMW",
        "outputId": "134d4356-d652-4697-ec35-4224430d52c6"
      },
      "execution_count": 2,
      "outputs": [
        {
          "output_type": "stream",
          "name": "stderr",
          "text": [
            "/usr/local/lib/python3.7/dist-packages/openpyxl/worksheet/_reader.py:312: UserWarning: Data Validation extension is not supported and will be removed\n",
            "  warn(msg)\n"
          ]
        }
      ]
    },
    {
      "cell_type": "code",
      "source": [
        "# Analisando as cinco primeiras linhas \n",
        "df.head()"
      ],
      "metadata": {
        "colab": {
          "base_uri": "https://localhost:8080/",
          "height": 508
        },
        "id": "Pngqxp6GnzAK",
        "outputId": "5f40b601-7a15-4b4d-f919-c1e780949f27"
      },
      "execution_count": 3,
      "outputs": [
        {
          "output_type": "execute_result",
          "data": {
            "text/plain": [
              "  Segmento_Mercado       Data     Marca                  Campanha  \\\n",
              "0       Cosmeticos 2022-06-07  Colorama  Colorama Mickey e amigos   \n",
              "1       Cosmeticos 2022-06-07  Colorama  Colorama Mickey e amigos   \n",
              "2       Cosmeticos 2022-06-07  Colorama  Colorama Mickey e amigos   \n",
              "3       Cosmeticos 2022-06-07  Colorama  Colorama Mickey e amigos   \n",
              "4       Cosmeticos 2022-06-07  Colorama  Colorama Mickey e amigos   \n",
              "\n",
              "           Nome      User  Base/ Seguidores  Porte Link do Post Plataforma  \\\n",
              "0  Gabs Floquet  heygabsf             69258  Micro          NaN  Instagram   \n",
              "1  Gabs Floquet  heygabsf             69258  Micro          NaN  Instagram   \n",
              "2  Gabs Floquet  heygabsf             69258  Micro          NaN  Instagram   \n",
              "3  Gabs Floquet  heygabsf             69258  Micro          NaN  Instagram   \n",
              "4  Gabs Floquet  heygabsf             69258  Micro          NaN  Instagram   \n",
              "\n",
              "   ... Negativos  Marca.2  Preço  Produto/ Serviços  Neutros  \\\n",
              "0  ...       NaN      NaN    NaN                NaN      NaN   \n",
              "1  ...       NaN      NaN    NaN                NaN      NaN   \n",
              "2  ...       NaN      NaN    NaN                NaN      NaN   \n",
              "3  ...       NaN      NaN    NaN                NaN      NaN   \n",
              "4  ...       NaN      NaN    NaN                NaN      NaN   \n",
              "\n",
              "   Tempo de Reprodução  Tempo médio de Visualização  Expansão de Detalhes  \\\n",
              "0                  NaN                          NaN                   NaN   \n",
              "1                  NaN                          NaN                   NaN   \n",
              "2                  NaN                          NaN                   NaN   \n",
              "3                  NaN                          NaN                   NaN   \n",
              "4                  NaN                          NaN                   NaN   \n",
              "\n",
              "   Engajamento Twitter  Engajamento  \n",
              "0                  NaN          138  \n",
              "1                  NaN          227  \n",
              "2                  NaN          199  \n",
              "3                  NaN          163  \n",
              "4                  NaN           83  \n",
              "\n",
              "[5 rows x 42 columns]"
            ],
            "text/html": [
              "\n",
              "  <div id=\"df-1778a5dd-22a4-4866-969f-2cdcb9f55a37\">\n",
              "    <div class=\"colab-df-container\">\n",
              "      <div>\n",
              "<style scoped>\n",
              "    .dataframe tbody tr th:only-of-type {\n",
              "        vertical-align: middle;\n",
              "    }\n",
              "\n",
              "    .dataframe tbody tr th {\n",
              "        vertical-align: top;\n",
              "    }\n",
              "\n",
              "    .dataframe thead th {\n",
              "        text-align: right;\n",
              "    }\n",
              "</style>\n",
              "<table border=\"1\" class=\"dataframe\">\n",
              "  <thead>\n",
              "    <tr style=\"text-align: right;\">\n",
              "      <th></th>\n",
              "      <th>Segmento_Mercado</th>\n",
              "      <th>Data</th>\n",
              "      <th>Marca</th>\n",
              "      <th>Campanha</th>\n",
              "      <th>Nome</th>\n",
              "      <th>User</th>\n",
              "      <th>Base/ Seguidores</th>\n",
              "      <th>Porte</th>\n",
              "      <th>Link do Post</th>\n",
              "      <th>Plataforma</th>\n",
              "      <th>...</th>\n",
              "      <th>Negativos</th>\n",
              "      <th>Marca.2</th>\n",
              "      <th>Preço</th>\n",
              "      <th>Produto/ Serviços</th>\n",
              "      <th>Neutros</th>\n",
              "      <th>Tempo de Reprodução</th>\n",
              "      <th>Tempo médio de Visualização</th>\n",
              "      <th>Expansão de Detalhes</th>\n",
              "      <th>Engajamento Twitter</th>\n",
              "      <th>Engajamento</th>\n",
              "    </tr>\n",
              "  </thead>\n",
              "  <tbody>\n",
              "    <tr>\n",
              "      <th>0</th>\n",
              "      <td>Cosmeticos</td>\n",
              "      <td>2022-06-07</td>\n",
              "      <td>Colorama</td>\n",
              "      <td>Colorama Mickey e amigos</td>\n",
              "      <td>Gabs Floquet</td>\n",
              "      <td>heygabsf</td>\n",
              "      <td>69258</td>\n",
              "      <td>Micro</td>\n",
              "      <td>NaN</td>\n",
              "      <td>Instagram</td>\n",
              "      <td>...</td>\n",
              "      <td>NaN</td>\n",
              "      <td>NaN</td>\n",
              "      <td>NaN</td>\n",
              "      <td>NaN</td>\n",
              "      <td>NaN</td>\n",
              "      <td>NaN</td>\n",
              "      <td>NaN</td>\n",
              "      <td>NaN</td>\n",
              "      <td>NaN</td>\n",
              "      <td>138</td>\n",
              "    </tr>\n",
              "    <tr>\n",
              "      <th>1</th>\n",
              "      <td>Cosmeticos</td>\n",
              "      <td>2022-06-07</td>\n",
              "      <td>Colorama</td>\n",
              "      <td>Colorama Mickey e amigos</td>\n",
              "      <td>Gabs Floquet</td>\n",
              "      <td>heygabsf</td>\n",
              "      <td>69258</td>\n",
              "      <td>Micro</td>\n",
              "      <td>NaN</td>\n",
              "      <td>Instagram</td>\n",
              "      <td>...</td>\n",
              "      <td>NaN</td>\n",
              "      <td>NaN</td>\n",
              "      <td>NaN</td>\n",
              "      <td>NaN</td>\n",
              "      <td>NaN</td>\n",
              "      <td>NaN</td>\n",
              "      <td>NaN</td>\n",
              "      <td>NaN</td>\n",
              "      <td>NaN</td>\n",
              "      <td>227</td>\n",
              "    </tr>\n",
              "    <tr>\n",
              "      <th>2</th>\n",
              "      <td>Cosmeticos</td>\n",
              "      <td>2022-06-07</td>\n",
              "      <td>Colorama</td>\n",
              "      <td>Colorama Mickey e amigos</td>\n",
              "      <td>Gabs Floquet</td>\n",
              "      <td>heygabsf</td>\n",
              "      <td>69258</td>\n",
              "      <td>Micro</td>\n",
              "      <td>NaN</td>\n",
              "      <td>Instagram</td>\n",
              "      <td>...</td>\n",
              "      <td>NaN</td>\n",
              "      <td>NaN</td>\n",
              "      <td>NaN</td>\n",
              "      <td>NaN</td>\n",
              "      <td>NaN</td>\n",
              "      <td>NaN</td>\n",
              "      <td>NaN</td>\n",
              "      <td>NaN</td>\n",
              "      <td>NaN</td>\n",
              "      <td>199</td>\n",
              "    </tr>\n",
              "    <tr>\n",
              "      <th>3</th>\n",
              "      <td>Cosmeticos</td>\n",
              "      <td>2022-06-07</td>\n",
              "      <td>Colorama</td>\n",
              "      <td>Colorama Mickey e amigos</td>\n",
              "      <td>Gabs Floquet</td>\n",
              "      <td>heygabsf</td>\n",
              "      <td>69258</td>\n",
              "      <td>Micro</td>\n",
              "      <td>NaN</td>\n",
              "      <td>Instagram</td>\n",
              "      <td>...</td>\n",
              "      <td>NaN</td>\n",
              "      <td>NaN</td>\n",
              "      <td>NaN</td>\n",
              "      <td>NaN</td>\n",
              "      <td>NaN</td>\n",
              "      <td>NaN</td>\n",
              "      <td>NaN</td>\n",
              "      <td>NaN</td>\n",
              "      <td>NaN</td>\n",
              "      <td>163</td>\n",
              "    </tr>\n",
              "    <tr>\n",
              "      <th>4</th>\n",
              "      <td>Cosmeticos</td>\n",
              "      <td>2022-06-07</td>\n",
              "      <td>Colorama</td>\n",
              "      <td>Colorama Mickey e amigos</td>\n",
              "      <td>Gabs Floquet</td>\n",
              "      <td>heygabsf</td>\n",
              "      <td>69258</td>\n",
              "      <td>Micro</td>\n",
              "      <td>NaN</td>\n",
              "      <td>Instagram</td>\n",
              "      <td>...</td>\n",
              "      <td>NaN</td>\n",
              "      <td>NaN</td>\n",
              "      <td>NaN</td>\n",
              "      <td>NaN</td>\n",
              "      <td>NaN</td>\n",
              "      <td>NaN</td>\n",
              "      <td>NaN</td>\n",
              "      <td>NaN</td>\n",
              "      <td>NaN</td>\n",
              "      <td>83</td>\n",
              "    </tr>\n",
              "  </tbody>\n",
              "</table>\n",
              "<p>5 rows × 42 columns</p>\n",
              "</div>\n",
              "      <button class=\"colab-df-convert\" onclick=\"convertToInteractive('df-1778a5dd-22a4-4866-969f-2cdcb9f55a37')\"\n",
              "              title=\"Convert this dataframe to an interactive table.\"\n",
              "              style=\"display:none;\">\n",
              "        \n",
              "  <svg xmlns=\"http://www.w3.org/2000/svg\" height=\"24px\"viewBox=\"0 0 24 24\"\n",
              "       width=\"24px\">\n",
              "    <path d=\"M0 0h24v24H0V0z\" fill=\"none\"/>\n",
              "    <path d=\"M18.56 5.44l.94 2.06.94-2.06 2.06-.94-2.06-.94-.94-2.06-.94 2.06-2.06.94zm-11 1L8.5 8.5l.94-2.06 2.06-.94-2.06-.94L8.5 2.5l-.94 2.06-2.06.94zm10 10l.94 2.06.94-2.06 2.06-.94-2.06-.94-.94-2.06-.94 2.06-2.06.94z\"/><path d=\"M17.41 7.96l-1.37-1.37c-.4-.4-.92-.59-1.43-.59-.52 0-1.04.2-1.43.59L10.3 9.45l-7.72 7.72c-.78.78-.78 2.05 0 2.83L4 21.41c.39.39.9.59 1.41.59.51 0 1.02-.2 1.41-.59l7.78-7.78 2.81-2.81c.8-.78.8-2.07 0-2.86zM5.41 20L4 18.59l7.72-7.72 1.47 1.35L5.41 20z\"/>\n",
              "  </svg>\n",
              "      </button>\n",
              "      \n",
              "  <style>\n",
              "    .colab-df-container {\n",
              "      display:flex;\n",
              "      flex-wrap:wrap;\n",
              "      gap: 12px;\n",
              "    }\n",
              "\n",
              "    .colab-df-convert {\n",
              "      background-color: #E8F0FE;\n",
              "      border: none;\n",
              "      border-radius: 50%;\n",
              "      cursor: pointer;\n",
              "      display: none;\n",
              "      fill: #1967D2;\n",
              "      height: 32px;\n",
              "      padding: 0 0 0 0;\n",
              "      width: 32px;\n",
              "    }\n",
              "\n",
              "    .colab-df-convert:hover {\n",
              "      background-color: #E2EBFA;\n",
              "      box-shadow: 0px 1px 2px rgba(60, 64, 67, 0.3), 0px 1px 3px 1px rgba(60, 64, 67, 0.15);\n",
              "      fill: #174EA6;\n",
              "    }\n",
              "\n",
              "    [theme=dark] .colab-df-convert {\n",
              "      background-color: #3B4455;\n",
              "      fill: #D2E3FC;\n",
              "    }\n",
              "\n",
              "    [theme=dark] .colab-df-convert:hover {\n",
              "      background-color: #434B5C;\n",
              "      box-shadow: 0px 1px 3px 1px rgba(0, 0, 0, 0.15);\n",
              "      filter: drop-shadow(0px 1px 2px rgba(0, 0, 0, 0.3));\n",
              "      fill: #FFFFFF;\n",
              "    }\n",
              "  </style>\n",
              "\n",
              "      <script>\n",
              "        const buttonEl =\n",
              "          document.querySelector('#df-1778a5dd-22a4-4866-969f-2cdcb9f55a37 button.colab-df-convert');\n",
              "        buttonEl.style.display =\n",
              "          google.colab.kernel.accessAllowed ? 'block' : 'none';\n",
              "\n",
              "        async function convertToInteractive(key) {\n",
              "          const element = document.querySelector('#df-1778a5dd-22a4-4866-969f-2cdcb9f55a37');\n",
              "          const dataTable =\n",
              "            await google.colab.kernel.invokeFunction('convertToInteractive',\n",
              "                                                     [key], {});\n",
              "          if (!dataTable) return;\n",
              "\n",
              "          const docLinkHtml = 'Like what you see? Visit the ' +\n",
              "            '<a target=\"_blank\" href=https://colab.research.google.com/notebooks/data_table.ipynb>data table notebook</a>'\n",
              "            + ' to learn more about interactive tables.';\n",
              "          element.innerHTML = '';\n",
              "          dataTable['output_type'] = 'display_data';\n",
              "          await google.colab.output.renderOutput(dataTable, element);\n",
              "          const docLink = document.createElement('div');\n",
              "          docLink.innerHTML = docLinkHtml;\n",
              "          element.appendChild(docLink);\n",
              "        }\n",
              "      </script>\n",
              "    </div>\n",
              "  </div>\n",
              "  "
            ]
          },
          "metadata": {},
          "execution_count": 3
        }
      ]
    },
    {
      "cell_type": "code",
      "source": [
        "# Checando o tipo de cada coluna \n",
        "df.dtypes"
      ],
      "metadata": {
        "colab": {
          "base_uri": "https://localhost:8080/"
        },
        "id": "D5VbU-W6oLVS",
        "outputId": "3d55d54e-98bc-49b6-e5ca-f0d6ff7dd33f"
      },
      "execution_count": 4,
      "outputs": [
        {
          "output_type": "execute_result",
          "data": {
            "text/plain": [
              "Segmento_Mercado                       object\n",
              "Data                           datetime64[ns]\n",
              "Marca                                  object\n",
              "Campanha                               object\n",
              "Nome                                   object\n",
              "User                                   object\n",
              "Base/ Seguidores                        int64\n",
              "Porte                                  object\n",
              "Link do Post                           object\n",
              "Plataforma                             object\n",
              "Formato                                object\n",
              "Combo                                   int64\n",
              "Screen                                float64\n",
              "Alcance                               float64\n",
              "Impressões                            float64\n",
              "Views                                 float64\n",
              "Respostas                             float64\n",
              "Shares                                float64\n",
              "Cliques no Link                       float64\n",
              "Cliques no @                          float64\n",
              "Cliques na #                          float64\n",
              "Toques para avançar                   float64\n",
              "Voltar                                float64\n",
              "Saídas                                float64\n",
              "Próximos Story                        float64\n",
              "Likes                                 float64\n",
              "Salvos                                float64\n",
              "Comentários                           float64\n",
              "Positivos                             float64\n",
              "Marca.1                               float64\n",
              "Produtos/ Serviços                    float64\n",
              "Interações com Conteúdo               float64\n",
              "Negativos                             float64\n",
              "Marca.2                               float64\n",
              "Preço                                 float64\n",
              "Produto/ Serviços                     float64\n",
              "Neutros                               float64\n",
              "Tempo de Reprodução                   float64\n",
              "Tempo médio de Visualização           float64\n",
              "Expansão de Detalhes                  float64\n",
              "Engajamento Twitter                   float64\n",
              "Engajamento                             int64\n",
              "dtype: object"
            ]
          },
          "metadata": {},
          "execution_count": 4
        }
      ]
    },
    {
      "cell_type": "code",
      "source": [
        "# Analisando quais são as colunas do nosso dataset\n",
        "df.columns"
      ],
      "metadata": {
        "colab": {
          "base_uri": "https://localhost:8080/"
        },
        "id": "jSFxR7DB6FO3",
        "outputId": "5873d585-16fc-4ffd-fbe8-a96a0fa3bd09"
      },
      "execution_count": 5,
      "outputs": [
        {
          "output_type": "execute_result",
          "data": {
            "text/plain": [
              "Index(['Segmento_Mercado', 'Data', 'Marca', 'Campanha', 'Nome', 'User',\n",
              "       'Base/ Seguidores', 'Porte', 'Link do Post', 'Plataforma', 'Formato',\n",
              "       'Combo', 'Screen', 'Alcance', 'Impressões', 'Views', 'Respostas',\n",
              "       'Shares', 'Cliques no Link', 'Cliques no @', 'Cliques na #',\n",
              "       'Toques para avançar', 'Voltar', 'Saídas', 'Próximos Story', 'Likes',\n",
              "       'Salvos', 'Comentários', 'Positivos', 'Marca.1', 'Produtos/ Serviços',\n",
              "       'Interações com Conteúdo', 'Negativos', 'Marca.2', 'Preço',\n",
              "       'Produto/ Serviços', 'Neutros', 'Tempo de Reprodução',\n",
              "       'Tempo médio de Visualização', 'Expansão de Detalhes',\n",
              "       'Engajamento Twitter', 'Engajamento'],\n",
              "      dtype='object')"
            ]
          },
          "metadata": {},
          "execution_count": 5
        }
      ]
    },
    {
      "cell_type": "markdown",
      "source": [
        "Analisar as colunas do dataset é importante pois com 42 colunas de dados sobre a campanha, é interessante analisar qual informação será importante e agregará na análise. \n",
        "Por ser uma campanha que envolveu apenas publicações no instagram será analisado o \"Engajamento\" porém não será analisado o \"Engajamento no Twitter\" por ter menor relevância para este case. Também será analisado \"Alcance\" e \"Base por seguidores\", e o motivo de tal escolha será descrito e calculado. \n"
      ],
      "metadata": {
        "id": "mjPY8Xc7QaS1"
      }
    },
    {
      "cell_type": "code",
      "source": [
        "# Analisando valores nulos\n",
        "df.isnull().sum()"
      ],
      "metadata": {
        "colab": {
          "base_uri": "https://localhost:8080/"
        },
        "id": "jbKX7ZJWPgrt",
        "outputId": "27154488-f1ea-4d2a-97e8-7e93a027df3f"
      },
      "execution_count": 6,
      "outputs": [
        {
          "output_type": "execute_result",
          "data": {
            "text/plain": [
              "Segmento_Mercado                0\n",
              "Data                            0\n",
              "Marca                           0\n",
              "Campanha                        0\n",
              "Nome                            0\n",
              "User                            0\n",
              "Base/ Seguidores                0\n",
              "Porte                           0\n",
              "Link do Post                   74\n",
              "Plataforma                      0\n",
              "Formato                         0\n",
              "Combo                           0\n",
              "Screen                         18\n",
              "Alcance                         0\n",
              "Impressões                     17\n",
              "Views                          75\n",
              "Respostas                      20\n",
              "Shares                          5\n",
              "Cliques no Link                79\n",
              "Cliques no @                   49\n",
              "Cliques na #                   86\n",
              "Toques para avançar            19\n",
              "Voltar                         18\n",
              "Saídas                         19\n",
              "Próximos Story                 19\n",
              "Likes                          74\n",
              "Salvos                         74\n",
              "Comentários                    74\n",
              "Positivos                      74\n",
              "Marca.1                        88\n",
              "Produtos/ Serviços             76\n",
              "Interações com Conteúdo        74\n",
              "Negativos                      74\n",
              "Marca.2                        91\n",
              "Preço                          92\n",
              "Produto/ Serviços              86\n",
              "Neutros                        74\n",
              "Tempo de Reprodução            92\n",
              "Tempo médio de Visualização    92\n",
              "Expansão de Detalhes           92\n",
              "Engajamento Twitter            92\n",
              "Engajamento                     0\n",
              "dtype: int64"
            ]
          },
          "metadata": {},
          "execution_count": 6
        }
      ]
    },
    {
      "cell_type": "markdown",
      "source": [
        "Foi realizada a análise de valores nulos dos dados para saber se os dados que serão trabalhados nesse projeto estavam tratados. \n",
        "\n",
        "Como iremos analisar \"Engajamento\", \"Alcance\" e \"Base por seguidores\", e estes não possuem dados nulos, podemos dar prosseguimento a análise da campanha.  "
      ],
      "metadata": {
        "id": "bxgjmr62QegM"
      }
    },
    {
      "cell_type": "markdown",
      "source": [
        "### Análise do Engajamento"
      ],
      "metadata": {
        "id": "wHBi6UClQeOM"
      }
    },
    {
      "cell_type": "markdown",
      "source": [
        "Uma das métricas mais importantes a se analisar é o Engajamento. \n",
        "O Engajamento mede o nível de interação dos seguidores com o conteúdo gerado. \n",
        "\n",
        "Sendo assim, podemos analisar qual dos influencers teve uma interação maior com seus seguidores na campanha Mickey e Amigos. "
      ],
      "metadata": {
        "id": "GIgp3nSeRTs-"
      }
    },
    {
      "cell_type": "code",
      "source": [
        "# Agrupando os dados por Influencer\n",
        "influencers = df.groupby('Nome')"
      ],
      "metadata": {
        "id": "IavowPR0w77c"
      },
      "execution_count": 7,
      "outputs": []
    },
    {
      "cell_type": "code",
      "source": [
        "# Estatísticas resumidas\n",
        "influencers.describe()"
      ],
      "metadata": {
        "colab": {
          "base_uri": "https://localhost:8080/",
          "height": 707
        },
        "id": "O1Z-KeEkDSlh",
        "outputId": "5a84cae1-60ac-4405-f9ec-5ba5ab860485"
      },
      "execution_count": 8,
      "outputs": [
        {
          "output_type": "execute_result",
          "data": {
            "text/plain": [
              "                Base/ Seguidores                                               \\\n",
              "                           count      mean  std       min       25%       50%   \n",
              "Nome                                                                            \n",
              "Amanda                      13.0  569293.0  0.0  569293.0  569293.0  569293.0   \n",
              "Andreza Delgado              5.0   29156.0  0.0   29156.0   29156.0   29156.0   \n",
              "Gabs Floquet                 9.0   69258.0  0.0   69258.0   69258.0   69258.0   \n",
              "Lenise                       7.0  909816.0  0.0  909816.0  909816.0  909816.0   \n",
              "Luisa Malizia                9.0  294335.0  0.0  294335.0  294335.0  294335.0   \n",
              "Mirella Qualha              11.0  175857.0  0.0  175857.0  175857.0  175857.0   \n",
              "Tatiane Lima                 7.0  101595.0  0.0  101595.0  101595.0  101595.0   \n",
              "Thay Bergamim                8.0  216406.0  0.0  216406.0  216406.0  216406.0   \n",
              "Victória Collen              9.0  979438.0  0.0  979438.0  979438.0  979438.0   \n",
              "Vitória Bueno               10.0  416700.0  0.0  416700.0  416700.0  416700.0   \n",
              "Will                         4.0  139966.0  0.0  139966.0  139966.0  139966.0   \n",
              "\n",
              "                                    Combo            ... Engajamento Twitter  \\\n",
              "                      75%       max count      mean  ...                 75%   \n",
              "Nome                                                 ...                       \n",
              "Amanda           569293.0  569293.0  13.0  1.384615  ...                 NaN   \n",
              "Andreza Delgado   29156.0   29156.0   5.0  1.000000  ...                 NaN   \n",
              "Gabs Floquet      69258.0   69258.0   9.0  1.000000  ...                 NaN   \n",
              "Lenise           909816.0  909816.0   7.0  1.000000  ...                 NaN   \n",
              "Luisa Malizia    294335.0  294335.0   9.0  1.555556  ...                 NaN   \n",
              "Mirella Qualha   175857.0  175857.0  11.0  1.545455  ...                 NaN   \n",
              "Tatiane Lima     101595.0  101595.0   7.0  1.000000  ...                 NaN   \n",
              "Thay Bergamim    216406.0  216406.0   8.0  1.500000  ...                 NaN   \n",
              "Victória Collen  979438.0  979438.0   9.0  1.444444  ...                 NaN   \n",
              "Vitória Bueno    416700.0  416700.0  10.0  1.500000  ...                 NaN   \n",
              "Will             139966.0  139966.0   4.0  1.000000  ...                 NaN   \n",
              "\n",
              "                    Engajamento                                            \\\n",
              "                max       count         mean           std    min     25%   \n",
              "Nome                                                                        \n",
              "Amanda          NaN        13.0  2059.692308   1779.685337  280.0  483.00   \n",
              "Andreza Delgado NaN         5.0    61.800000     99.185180   13.0   15.00   \n",
              "Gabs Floquet    NaN         9.0   185.111111    158.798177   73.0   87.00   \n",
              "Lenise          NaN         7.0  2259.857143   4402.797120  304.0  391.50   \n",
              "Luisa Malizia   NaN         9.0  6064.111111  12365.379447  249.0  371.00   \n",
              "Mirella Qualha  NaN        11.0   219.090909    436.602211   11.0   17.00   \n",
              "Tatiane Lima    NaN         7.0  2899.000000   5702.553288  152.0  178.50   \n",
              "Thay Bergamim   NaN         8.0   305.000000    531.810654   36.0   47.50   \n",
              "Victória Collen NaN         9.0  2575.000000   2989.405961  386.0  908.00   \n",
              "Vitória Bueno   NaN        10.0   550.700000    710.232990  104.0  188.75   \n",
              "Will            NaN         4.0   664.000000   1036.348397  120.0  131.25   \n",
              "\n",
              "                                           \n",
              "                    50%      75%      max  \n",
              "Nome                                       \n",
              "Amanda           1288.0  3585.00   5454.0  \n",
              "Andreza Delgado    16.0    26.00    239.0  \n",
              "Gabs Floquet      138.0   199.00    584.0  \n",
              "Lenise            420.0  1064.00  12184.0  \n",
              "Luisa Malizia     815.0  1434.00  37444.0  \n",
              "Mirella Qualha     26.0    36.50   1134.0  \n",
              "Tatiane Lima      248.0  2000.50  15535.0  \n",
              "Thay Bergamim      67.5   197.75   1550.0  \n",
              "Victória Collen  1052.0  2251.00   8218.0  \n",
              "Vitória Bueno     254.0   430.25   2364.0  \n",
              "Will              159.0   691.75   2218.0  \n",
              "\n",
              "[11 rows x 256 columns]"
            ],
            "text/html": [
              "\n",
              "  <div id=\"df-98c9b739-3e61-441d-acaf-0848c71a7af7\">\n",
              "    <div class=\"colab-df-container\">\n",
              "      <div>\n",
              "<style scoped>\n",
              "    .dataframe tbody tr th:only-of-type {\n",
              "        vertical-align: middle;\n",
              "    }\n",
              "\n",
              "    .dataframe tbody tr th {\n",
              "        vertical-align: top;\n",
              "    }\n",
              "\n",
              "    .dataframe thead tr th {\n",
              "        text-align: left;\n",
              "    }\n",
              "\n",
              "    .dataframe thead tr:last-of-type th {\n",
              "        text-align: right;\n",
              "    }\n",
              "</style>\n",
              "<table border=\"1\" class=\"dataframe\">\n",
              "  <thead>\n",
              "    <tr>\n",
              "      <th></th>\n",
              "      <th colspan=\"8\" halign=\"left\">Base/ Seguidores</th>\n",
              "      <th colspan=\"2\" halign=\"left\">Combo</th>\n",
              "      <th>...</th>\n",
              "      <th colspan=\"2\" halign=\"left\">Engajamento Twitter</th>\n",
              "      <th colspan=\"8\" halign=\"left\">Engajamento</th>\n",
              "    </tr>\n",
              "    <tr>\n",
              "      <th></th>\n",
              "      <th>count</th>\n",
              "      <th>mean</th>\n",
              "      <th>std</th>\n",
              "      <th>min</th>\n",
              "      <th>25%</th>\n",
              "      <th>50%</th>\n",
              "      <th>75%</th>\n",
              "      <th>max</th>\n",
              "      <th>count</th>\n",
              "      <th>mean</th>\n",
              "      <th>...</th>\n",
              "      <th>75%</th>\n",
              "      <th>max</th>\n",
              "      <th>count</th>\n",
              "      <th>mean</th>\n",
              "      <th>std</th>\n",
              "      <th>min</th>\n",
              "      <th>25%</th>\n",
              "      <th>50%</th>\n",
              "      <th>75%</th>\n",
              "      <th>max</th>\n",
              "    </tr>\n",
              "    <tr>\n",
              "      <th>Nome</th>\n",
              "      <th></th>\n",
              "      <th></th>\n",
              "      <th></th>\n",
              "      <th></th>\n",
              "      <th></th>\n",
              "      <th></th>\n",
              "      <th></th>\n",
              "      <th></th>\n",
              "      <th></th>\n",
              "      <th></th>\n",
              "      <th></th>\n",
              "      <th></th>\n",
              "      <th></th>\n",
              "      <th></th>\n",
              "      <th></th>\n",
              "      <th></th>\n",
              "      <th></th>\n",
              "      <th></th>\n",
              "      <th></th>\n",
              "      <th></th>\n",
              "      <th></th>\n",
              "    </tr>\n",
              "  </thead>\n",
              "  <tbody>\n",
              "    <tr>\n",
              "      <th>Amanda</th>\n",
              "      <td>13.0</td>\n",
              "      <td>569293.0</td>\n",
              "      <td>0.0</td>\n",
              "      <td>569293.0</td>\n",
              "      <td>569293.0</td>\n",
              "      <td>569293.0</td>\n",
              "      <td>569293.0</td>\n",
              "      <td>569293.0</td>\n",
              "      <td>13.0</td>\n",
              "      <td>1.384615</td>\n",
              "      <td>...</td>\n",
              "      <td>NaN</td>\n",
              "      <td>NaN</td>\n",
              "      <td>13.0</td>\n",
              "      <td>2059.692308</td>\n",
              "      <td>1779.685337</td>\n",
              "      <td>280.0</td>\n",
              "      <td>483.00</td>\n",
              "      <td>1288.0</td>\n",
              "      <td>3585.00</td>\n",
              "      <td>5454.0</td>\n",
              "    </tr>\n",
              "    <tr>\n",
              "      <th>Andreza Delgado</th>\n",
              "      <td>5.0</td>\n",
              "      <td>29156.0</td>\n",
              "      <td>0.0</td>\n",
              "      <td>29156.0</td>\n",
              "      <td>29156.0</td>\n",
              "      <td>29156.0</td>\n",
              "      <td>29156.0</td>\n",
              "      <td>29156.0</td>\n",
              "      <td>5.0</td>\n",
              "      <td>1.000000</td>\n",
              "      <td>...</td>\n",
              "      <td>NaN</td>\n",
              "      <td>NaN</td>\n",
              "      <td>5.0</td>\n",
              "      <td>61.800000</td>\n",
              "      <td>99.185180</td>\n",
              "      <td>13.0</td>\n",
              "      <td>15.00</td>\n",
              "      <td>16.0</td>\n",
              "      <td>26.00</td>\n",
              "      <td>239.0</td>\n",
              "    </tr>\n",
              "    <tr>\n",
              "      <th>Gabs Floquet</th>\n",
              "      <td>9.0</td>\n",
              "      <td>69258.0</td>\n",
              "      <td>0.0</td>\n",
              "      <td>69258.0</td>\n",
              "      <td>69258.0</td>\n",
              "      <td>69258.0</td>\n",
              "      <td>69258.0</td>\n",
              "      <td>69258.0</td>\n",
              "      <td>9.0</td>\n",
              "      <td>1.000000</td>\n",
              "      <td>...</td>\n",
              "      <td>NaN</td>\n",
              "      <td>NaN</td>\n",
              "      <td>9.0</td>\n",
              "      <td>185.111111</td>\n",
              "      <td>158.798177</td>\n",
              "      <td>73.0</td>\n",
              "      <td>87.00</td>\n",
              "      <td>138.0</td>\n",
              "      <td>199.00</td>\n",
              "      <td>584.0</td>\n",
              "    </tr>\n",
              "    <tr>\n",
              "      <th>Lenise</th>\n",
              "      <td>7.0</td>\n",
              "      <td>909816.0</td>\n",
              "      <td>0.0</td>\n",
              "      <td>909816.0</td>\n",
              "      <td>909816.0</td>\n",
              "      <td>909816.0</td>\n",
              "      <td>909816.0</td>\n",
              "      <td>909816.0</td>\n",
              "      <td>7.0</td>\n",
              "      <td>1.000000</td>\n",
              "      <td>...</td>\n",
              "      <td>NaN</td>\n",
              "      <td>NaN</td>\n",
              "      <td>7.0</td>\n",
              "      <td>2259.857143</td>\n",
              "      <td>4402.797120</td>\n",
              "      <td>304.0</td>\n",
              "      <td>391.50</td>\n",
              "      <td>420.0</td>\n",
              "      <td>1064.00</td>\n",
              "      <td>12184.0</td>\n",
              "    </tr>\n",
              "    <tr>\n",
              "      <th>Luisa Malizia</th>\n",
              "      <td>9.0</td>\n",
              "      <td>294335.0</td>\n",
              "      <td>0.0</td>\n",
              "      <td>294335.0</td>\n",
              "      <td>294335.0</td>\n",
              "      <td>294335.0</td>\n",
              "      <td>294335.0</td>\n",
              "      <td>294335.0</td>\n",
              "      <td>9.0</td>\n",
              "      <td>1.555556</td>\n",
              "      <td>...</td>\n",
              "      <td>NaN</td>\n",
              "      <td>NaN</td>\n",
              "      <td>9.0</td>\n",
              "      <td>6064.111111</td>\n",
              "      <td>12365.379447</td>\n",
              "      <td>249.0</td>\n",
              "      <td>371.00</td>\n",
              "      <td>815.0</td>\n",
              "      <td>1434.00</td>\n",
              "      <td>37444.0</td>\n",
              "    </tr>\n",
              "    <tr>\n",
              "      <th>Mirella Qualha</th>\n",
              "      <td>11.0</td>\n",
              "      <td>175857.0</td>\n",
              "      <td>0.0</td>\n",
              "      <td>175857.0</td>\n",
              "      <td>175857.0</td>\n",
              "      <td>175857.0</td>\n",
              "      <td>175857.0</td>\n",
              "      <td>175857.0</td>\n",
              "      <td>11.0</td>\n",
              "      <td>1.545455</td>\n",
              "      <td>...</td>\n",
              "      <td>NaN</td>\n",
              "      <td>NaN</td>\n",
              "      <td>11.0</td>\n",
              "      <td>219.090909</td>\n",
              "      <td>436.602211</td>\n",
              "      <td>11.0</td>\n",
              "      <td>17.00</td>\n",
              "      <td>26.0</td>\n",
              "      <td>36.50</td>\n",
              "      <td>1134.0</td>\n",
              "    </tr>\n",
              "    <tr>\n",
              "      <th>Tatiane Lima</th>\n",
              "      <td>7.0</td>\n",
              "      <td>101595.0</td>\n",
              "      <td>0.0</td>\n",
              "      <td>101595.0</td>\n",
              "      <td>101595.0</td>\n",
              "      <td>101595.0</td>\n",
              "      <td>101595.0</td>\n",
              "      <td>101595.0</td>\n",
              "      <td>7.0</td>\n",
              "      <td>1.000000</td>\n",
              "      <td>...</td>\n",
              "      <td>NaN</td>\n",
              "      <td>NaN</td>\n",
              "      <td>7.0</td>\n",
              "      <td>2899.000000</td>\n",
              "      <td>5702.553288</td>\n",
              "      <td>152.0</td>\n",
              "      <td>178.50</td>\n",
              "      <td>248.0</td>\n",
              "      <td>2000.50</td>\n",
              "      <td>15535.0</td>\n",
              "    </tr>\n",
              "    <tr>\n",
              "      <th>Thay Bergamim</th>\n",
              "      <td>8.0</td>\n",
              "      <td>216406.0</td>\n",
              "      <td>0.0</td>\n",
              "      <td>216406.0</td>\n",
              "      <td>216406.0</td>\n",
              "      <td>216406.0</td>\n",
              "      <td>216406.0</td>\n",
              "      <td>216406.0</td>\n",
              "      <td>8.0</td>\n",
              "      <td>1.500000</td>\n",
              "      <td>...</td>\n",
              "      <td>NaN</td>\n",
              "      <td>NaN</td>\n",
              "      <td>8.0</td>\n",
              "      <td>305.000000</td>\n",
              "      <td>531.810654</td>\n",
              "      <td>36.0</td>\n",
              "      <td>47.50</td>\n",
              "      <td>67.5</td>\n",
              "      <td>197.75</td>\n",
              "      <td>1550.0</td>\n",
              "    </tr>\n",
              "    <tr>\n",
              "      <th>Victória Collen</th>\n",
              "      <td>9.0</td>\n",
              "      <td>979438.0</td>\n",
              "      <td>0.0</td>\n",
              "      <td>979438.0</td>\n",
              "      <td>979438.0</td>\n",
              "      <td>979438.0</td>\n",
              "      <td>979438.0</td>\n",
              "      <td>979438.0</td>\n",
              "      <td>9.0</td>\n",
              "      <td>1.444444</td>\n",
              "      <td>...</td>\n",
              "      <td>NaN</td>\n",
              "      <td>NaN</td>\n",
              "      <td>9.0</td>\n",
              "      <td>2575.000000</td>\n",
              "      <td>2989.405961</td>\n",
              "      <td>386.0</td>\n",
              "      <td>908.00</td>\n",
              "      <td>1052.0</td>\n",
              "      <td>2251.00</td>\n",
              "      <td>8218.0</td>\n",
              "    </tr>\n",
              "    <tr>\n",
              "      <th>Vitória Bueno</th>\n",
              "      <td>10.0</td>\n",
              "      <td>416700.0</td>\n",
              "      <td>0.0</td>\n",
              "      <td>416700.0</td>\n",
              "      <td>416700.0</td>\n",
              "      <td>416700.0</td>\n",
              "      <td>416700.0</td>\n",
              "      <td>416700.0</td>\n",
              "      <td>10.0</td>\n",
              "      <td>1.500000</td>\n",
              "      <td>...</td>\n",
              "      <td>NaN</td>\n",
              "      <td>NaN</td>\n",
              "      <td>10.0</td>\n",
              "      <td>550.700000</td>\n",
              "      <td>710.232990</td>\n",
              "      <td>104.0</td>\n",
              "      <td>188.75</td>\n",
              "      <td>254.0</td>\n",
              "      <td>430.25</td>\n",
              "      <td>2364.0</td>\n",
              "    </tr>\n",
              "    <tr>\n",
              "      <th>Will</th>\n",
              "      <td>4.0</td>\n",
              "      <td>139966.0</td>\n",
              "      <td>0.0</td>\n",
              "      <td>139966.0</td>\n",
              "      <td>139966.0</td>\n",
              "      <td>139966.0</td>\n",
              "      <td>139966.0</td>\n",
              "      <td>139966.0</td>\n",
              "      <td>4.0</td>\n",
              "      <td>1.000000</td>\n",
              "      <td>...</td>\n",
              "      <td>NaN</td>\n",
              "      <td>NaN</td>\n",
              "      <td>4.0</td>\n",
              "      <td>664.000000</td>\n",
              "      <td>1036.348397</td>\n",
              "      <td>120.0</td>\n",
              "      <td>131.25</td>\n",
              "      <td>159.0</td>\n",
              "      <td>691.75</td>\n",
              "      <td>2218.0</td>\n",
              "    </tr>\n",
              "  </tbody>\n",
              "</table>\n",
              "<p>11 rows × 256 columns</p>\n",
              "</div>\n",
              "      <button class=\"colab-df-convert\" onclick=\"convertToInteractive('df-98c9b739-3e61-441d-acaf-0848c71a7af7')\"\n",
              "              title=\"Convert this dataframe to an interactive table.\"\n",
              "              style=\"display:none;\">\n",
              "        \n",
              "  <svg xmlns=\"http://www.w3.org/2000/svg\" height=\"24px\"viewBox=\"0 0 24 24\"\n",
              "       width=\"24px\">\n",
              "    <path d=\"M0 0h24v24H0V0z\" fill=\"none\"/>\n",
              "    <path d=\"M18.56 5.44l.94 2.06.94-2.06 2.06-.94-2.06-.94-.94-2.06-.94 2.06-2.06.94zm-11 1L8.5 8.5l.94-2.06 2.06-.94-2.06-.94L8.5 2.5l-.94 2.06-2.06.94zm10 10l.94 2.06.94-2.06 2.06-.94-2.06-.94-.94-2.06-.94 2.06-2.06.94z\"/><path d=\"M17.41 7.96l-1.37-1.37c-.4-.4-.92-.59-1.43-.59-.52 0-1.04.2-1.43.59L10.3 9.45l-7.72 7.72c-.78.78-.78 2.05 0 2.83L4 21.41c.39.39.9.59 1.41.59.51 0 1.02-.2 1.41-.59l7.78-7.78 2.81-2.81c.8-.78.8-2.07 0-2.86zM5.41 20L4 18.59l7.72-7.72 1.47 1.35L5.41 20z\"/>\n",
              "  </svg>\n",
              "      </button>\n",
              "      \n",
              "  <style>\n",
              "    .colab-df-container {\n",
              "      display:flex;\n",
              "      flex-wrap:wrap;\n",
              "      gap: 12px;\n",
              "    }\n",
              "\n",
              "    .colab-df-convert {\n",
              "      background-color: #E8F0FE;\n",
              "      border: none;\n",
              "      border-radius: 50%;\n",
              "      cursor: pointer;\n",
              "      display: none;\n",
              "      fill: #1967D2;\n",
              "      height: 32px;\n",
              "      padding: 0 0 0 0;\n",
              "      width: 32px;\n",
              "    }\n",
              "\n",
              "    .colab-df-convert:hover {\n",
              "      background-color: #E2EBFA;\n",
              "      box-shadow: 0px 1px 2px rgba(60, 64, 67, 0.3), 0px 1px 3px 1px rgba(60, 64, 67, 0.15);\n",
              "      fill: #174EA6;\n",
              "    }\n",
              "\n",
              "    [theme=dark] .colab-df-convert {\n",
              "      background-color: #3B4455;\n",
              "      fill: #D2E3FC;\n",
              "    }\n",
              "\n",
              "    [theme=dark] .colab-df-convert:hover {\n",
              "      background-color: #434B5C;\n",
              "      box-shadow: 0px 1px 3px 1px rgba(0, 0, 0, 0.15);\n",
              "      filter: drop-shadow(0px 1px 2px rgba(0, 0, 0, 0.3));\n",
              "      fill: #FFFFFF;\n",
              "    }\n",
              "  </style>\n",
              "\n",
              "      <script>\n",
              "        const buttonEl =\n",
              "          document.querySelector('#df-98c9b739-3e61-441d-acaf-0848c71a7af7 button.colab-df-convert');\n",
              "        buttonEl.style.display =\n",
              "          google.colab.kernel.accessAllowed ? 'block' : 'none';\n",
              "\n",
              "        async function convertToInteractive(key) {\n",
              "          const element = document.querySelector('#df-98c9b739-3e61-441d-acaf-0848c71a7af7');\n",
              "          const dataTable =\n",
              "            await google.colab.kernel.invokeFunction('convertToInteractive',\n",
              "                                                     [key], {});\n",
              "          if (!dataTable) return;\n",
              "\n",
              "          const docLinkHtml = 'Like what you see? Visit the ' +\n",
              "            '<a target=\"_blank\" href=https://colab.research.google.com/notebooks/data_table.ipynb>data table notebook</a>'\n",
              "            + ' to learn more about interactive tables.';\n",
              "          element.innerHTML = '';\n",
              "          dataTable['output_type'] = 'display_data';\n",
              "          await google.colab.output.renderOutput(dataTable, element);\n",
              "          const docLink = document.createElement('div');\n",
              "          docLink.innerHTML = docLinkHtml;\n",
              "          element.appendChild(docLink);\n",
              "        }\n",
              "      </script>\n",
              "    </div>\n",
              "  </div>\n",
              "  "
            ]
          },
          "metadata": {},
          "execution_count": 8
        }
      ]
    },
    {
      "cell_type": "markdown",
      "source": [
        "Os influencers que participaram da campanha foram: \n",
        "* Amanda\n",
        "* Andreza Delgado\n",
        "* Gabs Floquet\n",
        "* Lenise\t\n",
        "* Luisa Malizia\n",
        "* Mirella Qualha\n",
        "* Tatiane Lima\n",
        "* Thay Bergamim\n",
        "* Victória Collen\n",
        "* Vitória Bueno\n",
        "* Will\n",
        "\n",
        "Com as estatísticas calculadas acima já é possível ter uma análise bem completa de todas as métricas, seus valores máximos, mínimos, média, quartis, desvio padrão, porém para uma anáise mais detalhada e também comparativa, será analisada as métricas separadamente. "
      ],
      "metadata": {
        "id": "LFlxrSRw6XFo"
      }
    },
    {
      "cell_type": "code",
      "source": [
        "# Cálculo do Engajamento Total\n",
        "engajamento_soma = influencers['Engajamento'].sum()\n",
        "engajamento_soma.sort_values(ascending= False)"
      ],
      "metadata": {
        "colab": {
          "base_uri": "https://localhost:8080/"
        },
        "id": "YvQQ15rLymwf",
        "outputId": "eae54fe0-b3f7-4740-8c0e-14176dc11583"
      },
      "execution_count": 9,
      "outputs": [
        {
          "output_type": "execute_result",
          "data": {
            "text/plain": [
              "Nome\n",
              "Luisa Malizia      54577\n",
              "Amanda             26776\n",
              "Victória Collen    23175\n",
              "Tatiane Lima       20293\n",
              "Lenise             15819\n",
              "Vitória Bueno       5507\n",
              "Will                2656\n",
              "Thay Bergamim       2440\n",
              "Mirella Qualha      2410\n",
              "Gabs Floquet        1666\n",
              "Andreza Delgado      309\n",
              "Name: Engajamento, dtype: int64"
            ]
          },
          "metadata": {},
          "execution_count": 9
        }
      ]
    },
    {
      "cell_type": "code",
      "source": [
        "# Cálculo do Engajamento Máximo\n",
        "engajamento_max = influencers['Engajamento'].max()\n",
        "engajamento_max.sort_values(ascending= False)"
      ],
      "metadata": {
        "colab": {
          "base_uri": "https://localhost:8080/"
        },
        "id": "fwx2m5Cp8dIj",
        "outputId": "a7fd2fb8-e87b-4f4f-ab48-9b9800071775"
      },
      "execution_count": 10,
      "outputs": [
        {
          "output_type": "execute_result",
          "data": {
            "text/plain": [
              "Nome\n",
              "Luisa Malizia      37444\n",
              "Tatiane Lima       15535\n",
              "Lenise             12184\n",
              "Victória Collen     8218\n",
              "Amanda              5454\n",
              "Vitória Bueno       2364\n",
              "Will                2218\n",
              "Thay Bergamim       1550\n",
              "Mirella Qualha      1134\n",
              "Gabs Floquet         584\n",
              "Andreza Delgado      239\n",
              "Name: Engajamento, dtype: int64"
            ]
          },
          "metadata": {},
          "execution_count": 10
        }
      ]
    },
    {
      "cell_type": "markdown",
      "source": [
        "* Resultado: \n",
        "\n",
        "Foi analisado tanto o engajamento total quanto engajamento máximo por influencer. \n",
        "\n",
        "Para o engajamento total quem mais se destacou foi Luisa Malizia, Amanda e Victória Collen respectivamente. E para o engajamento máximo Luisa Malizia, seguida por Tatiane Lima e Lenise. Nas duas análises para o engajamento da campanha vemos um destaque maior da influencer **Luisa Malizia**.\n",
        "\n",
        "O gráfico abaixo explicita a análise realizada:"
      ],
      "metadata": {
        "id": "S-g6DOzI8ZSK"
      }
    },
    {
      "cell_type": "code",
      "source": [
        "# Gráficos do Engajamento Total \n",
        "engajamento_soma.sort_values(ascending= False).plot.bar(title='Engajamento Total por Influencer', color= 'darkblue')\n",
        "plt.xlabel('Influencer')\n",
        "plt.ylabel('Engajamento Total');"
      ],
      "metadata": {
        "colab": {
          "base_uri": "https://localhost:8080/",
          "height": 371
        },
        "id": "fNVou-19Fiay",
        "outputId": "f850b27b-bbaf-462b-c153-1a01dfbc3b30"
      },
      "execution_count": 11,
      "outputs": [
        {
          "output_type": "display_data",
          "data": {
            "text/plain": [
              "<Figure size 432x288 with 1 Axes>"
            ],
            "image/png": "[encoded data removed]"
          },
          "metadata": {
            "needs_background": "light"
          }
        }
      ]
    },
    {
      "cell_type": "code",
      "source": [
        "# Gráficos do Engajamento Máximo \n",
        "engajamento_max.sort_values(ascending= False).plot.bar(title='Engajamento Máximo por Influencer', color= 'blue')\n",
        "plt.xlabel('Influencer')\n",
        "plt.ylabel('Engajamento Máximo');"
      ],
      "metadata": {
        "colab": {
          "base_uri": "https://localhost:8080/",
          "height": 371
        },
        "id": "kYk_85roJ3w5",
        "outputId": "4c9cb5ce-5db2-452d-e60d-40a85d49c8bb"
      },
      "execution_count": 12,
      "outputs": [
        {
          "output_type": "display_data",
          "data": {
            "text/plain": [
              "<Figure size 432x288 with 1 Axes>"
            ],
            "image/png": "[encoded data removed]"
          },
          "metadata": {
            "needs_background": "light"
          }
        }
      ]
    },
    {
      "cell_type": "markdown",
      "source": [
        "### Análise do Alcance"
      ],
      "metadata": {
        "id": "dCJOZeSB4XKj"
      }
    },
    {
      "cell_type": "markdown",
      "source": [
        "O Alcance é uma métrica que quantifica o número de usuários que visualizaram uma determinada publicação feita, no case em questão, a publicação da Colorama no Instagram.\n",
        "\n",
        "Porém o Alcance é uma métrica única e não será análisada sua soma conforme foi feito para a análise do Engajamento, pois sua soma implicaria em uma duplicação de usuários impactado. Sendo assim, será análisado o Alcance máximo de cada influencer.  \n"
      ],
      "metadata": {
        "id": "Tpr9NAl1xgTV"
      }
    },
    {
      "cell_type": "code",
      "source": [
        "# Cálculo do Alcance Máximo\n",
        "alcance = influencers['Alcance'].max()\n",
        "alcance.sort_values(ascending= False)"
      ],
      "metadata": {
        "colab": {
          "base_uri": "https://localhost:8080/"
        },
        "id": "z_QHNIYlKR0P",
        "outputId": "3c31befc-4b89-4b01-a688-8844754c62df"
      },
      "execution_count": 13,
      "outputs": [
        {
          "output_type": "execute_result",
          "data": {
            "text/plain": [
              "Nome\n",
              "Tatiane Lima       379277.0\n",
              "Amanda             349078.0\n",
              "Luisa Malizia      171237.0\n",
              "Victória Collen    141330.0\n",
              "Lenise             110810.0\n",
              "Thay Bergamim       25892.0\n",
              "Will                24478.0\n",
              "Vitória Bueno       20530.0\n",
              "Mirella Qualha       9755.0\n",
              "Gabs Floquet         7407.0\n",
              "Andreza Delgado      2556.0\n",
              "Name: Alcance, dtype: float64"
            ]
          },
          "metadata": {},
          "execution_count": 13
        }
      ]
    },
    {
      "cell_type": "markdown",
      "source": [
        "* Resultado: \n",
        "\n",
        "Os influencers que obtiveram um maior alcance em suas postagens foram Tatiane Lima, Amanda e Luisa Malizia      respectivamente. \n",
        "\n",
        "Tatiane Lima e Luisa Malizia assim como no engajamento máximo se destacaram porém no alcance a **Tatiane Lima** surpreendemente se destacou mais que as demais.  \n",
        "\n",
        "O gráfico abaixo mostra a análise realizada:"
      ],
      "metadata": {
        "id": "CiwAn0dnc2Zy"
      }
    },
    {
      "cell_type": "code",
      "source": [
        "# Gráficos do Alcance \n",
        "alcance.sort_values(ascending= False).plot.bar(title='Alcance por Influencer', color= 'green')\n",
        "plt.xlabel('Influencer')\n",
        "plt.ylabel('Alcance');"
      ],
      "metadata": {
        "colab": {
          "base_uri": "https://localhost:8080/",
          "height": 371
        },
        "id": "iFAcyFb8c33B",
        "outputId": "f949a59f-42cb-4514-fd47-d4d47622203a"
      },
      "execution_count": 14,
      "outputs": [
        {
          "output_type": "display_data",
          "data": {
            "text/plain": [
              "<Figure size 432x288 with 1 Axes>"
            ],
            "image/png": "[encoded data removed]"
          },
          "metadata": {
            "needs_background": "light"
          }
        }
      ]
    },
    {
      "cell_type": "markdown",
      "source": [
        "### Análise dos Influencers com base nos seguidores"
      ],
      "metadata": {
        "id": "tIcNz7__xgFo"
      }
    },
    {
      "cell_type": "markdown",
      "source": [
        "Outra métrica muito importante a ser considerada é o número de seguidores que cada influencer possui, uma vez que, quanto maior o número de seguidores maior é o seu público, porém não necessariamente gera o mesmo engajamento. "
      ],
      "metadata": {
        "id": "_P-drrGVxfJo"
      }
    },
    {
      "cell_type": "code",
      "source": [
        "# Cálculo com base nos seguidores de cada influencer\n",
        "base_seguidores = influencers['Base/ Seguidores'].max()\n",
        "base_seguidores.sort_values(ascending= False)"
      ],
      "metadata": {
        "colab": {
          "base_uri": "https://localhost:8080/"
        },
        "id": "nwzoT_UqjYGW",
        "outputId": "cb4de91c-5bb2-4d58-fcdc-dbe2620356aa"
      },
      "execution_count": 15,
      "outputs": [
        {
          "output_type": "execute_result",
          "data": {
            "text/plain": [
              "Nome\n",
              "Victória Collen    979438\n",
              "Lenise             909816\n",
              "Amanda             569293\n",
              "Vitória Bueno      416700\n",
              "Luisa Malizia      294335\n",
              "Thay Bergamim      216406\n",
              "Mirella Qualha     175857\n",
              "Will               139966\n",
              "Tatiane Lima       101595\n",
              "Gabs Floquet        69258\n",
              "Andreza Delgado     29156\n",
              "Name: Base/ Seguidores, dtype: int64"
            ]
          },
          "metadata": {},
          "execution_count": 15
        }
      ]
    },
    {
      "cell_type": "markdown",
      "source": [
        "* Resultado: \n",
        "\n",
        "Com base nos seguidores, os influencers com maior número foram Victória Collen, Lenise e Amanda respectivamente. "
      ],
      "metadata": {
        "id": "qHrSNFJTjZyZ"
      }
    },
    {
      "cell_type": "code",
      "source": [
        "# Gráficos com base nos seguidores de cada influencer\n",
        "base_seguidores.sort_values(ascending= True).plot.barh(title='Seguidores por Influencer', color= 'red')\n",
        "plt.xlabel('Nº de Seguidores')\n",
        "plt.ylabel('Influencer');"
      ],
      "metadata": {
        "colab": {
          "base_uri": "https://localhost:8080/",
          "height": 295
        },
        "id": "8GevPfXsjcHC",
        "outputId": "4f8860d1-8f2b-40b5-b53d-9aed980b754f"
      },
      "execution_count": 16,
      "outputs": [
        {
          "output_type": "display_data",
          "data": {
            "text/plain": [
              "<Figure size 432x288 with 1 Axes>"
            ],
            "image/png": "[encoded data removed]"
          },
          "metadata": {
            "needs_background": "light"
          }
        }
      ]
    },
    {
      "cell_type": "markdown",
      "source": [
        "## Conclusão do Case"
      ],
      "metadata": {
        "id": "1ty_PBp6xho4"
      }
    },
    {
      "cell_type": "markdown",
      "source": [
        "Por meio das análises feitas para o case da campanha Mickey e amigos da Colorama foi possível fazer um comparativo entre os onze influencers contratados para campanha. \n",
        "\n",
        "A primeira conclusão foi que as influencers Gabs Floquet e Andreza Delgado apresentaram em todas as análises o menor Engajamento e Alcance, e também menos seguidores. Isso já era de se esperar, e podemos afirmar após as análises que devido ao seu target ser menor por conta dos seguidores acarretou um menor engajamento e alcance. \n",
        "\n",
        "Para o engajamento total quem mais se destacou foi Luisa Malizia, Amanda e Victória Collen respectivamente. E para o engajamento máximo Luisa Malizia, seguida por Tatiane Lima e Lenise. \n",
        "\n",
        "Os influencers que obtiveram um maior alcance em suas postagens foram Tatiane Lima, Amanda e Luisa Malizia nesta ordem. \n",
        "\n",
        "E os influencers com maior número com base nos seguidores foram Victória Collen, Lenise e Amanda.\n",
        "\n",
        "Logo, podemos dizer que a influencer Luisa Malizia teve um grande destaque pois apesar de não estar entre as três influencers com maior número de seguidores ela teve o maior engajamento e ficou entre os melhores no alcance. Victória Collen apresentou a entrega esperada, por possuir o maior número de seguidores e maior target, ela se destacou em termos de engajamento mas por ser a influencer com mais seguidores os valores de alcance poderiam ter sido melhores, ter atingido um público maior nas suas publicações. O mesmo ocorreu com Lenise, uma das que possuía maior número de seguidoes atingiu um engajamento esperado contudo não obteve mesmo desempenho no alcance. Já a influencer Tatiane Lima deve ser destacada pois apesar de ter um dos números mais baixos de seguidores ela atingiu um alto e incrível alcance. "
      ],
      "metadata": {
        "id": "S5FpazEsM7v9"
      }
    },
    {
      "cell_type": "markdown",
      "source": [
        "![grafico-conclusivo.png](data:image/png;base64,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)"
      ],
      "metadata": {
        "id": "SJWF5dfiYaPP"
      }
    },
    {
      "cell_type": "markdown",
      "source": [
        "<p align=\"center\">\n",
        "    <img src=\"https://www.coloramaesmaltes.com.br/-/media/Project/Loreal/Brand-Sites/Essie/shared/logo_colorama.png?h=300&w=586&la=en&hash=CC66121879A711B262AA66BBAEB61B44906AACF0\" width=\"130\">\n",
        "</p>\n"
      ],
      "metadata": {
        "id": "5BTjEAuc-uc8"
      }
    }
  ]
}